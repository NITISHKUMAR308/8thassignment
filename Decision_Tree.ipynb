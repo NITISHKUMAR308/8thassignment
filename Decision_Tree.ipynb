{
  "nbformat": 4,
  "nbformat_minor": 0,
  "metadata": {
    "colab": {
      "provenance": []
    },
    "kernelspec": {
      "name": "python3",
      "display_name": "Python 3"
    },
    "language_info": {
      "name": "python"
    }
  },
  "cells": [
    {
      "cell_type": "markdown",
      "source": [
        "### 1. **What is a Decision Tree, and how does it work?**\n",
        "\n",
        "* A Decision Tree is a **supervised machine learning algorithm** used for **classification and regression**.\n",
        "* It splits the data into subsets based on feature values.\n",
        "* The tree is made of **nodes**:\n",
        "\n",
        "  * **Root Node**: Represents the entire dataset.\n",
        "  * **Internal Nodes**: Represent feature-based decisions.\n",
        "  * **Leaf Nodes**: Represent the output label or value.\n",
        "* It works by:\n",
        "\n",
        "  1. Finding the **best feature** to split the data.\n",
        "  2. Recursively splitting data into smaller subsets.\n",
        "  3. Stopping when nodes are pure or meet stopping criteria.\n",
        "\n",
        "---\n",
        "\n",
        "### 2. **What are impurity measures in Decision Trees?**\n",
        "\n",
        "* Impurity measures quantify how **mixed** the data is at a node.\n",
        "* Common impurity measures:\n",
        "\n",
        "  * **Gini Impurity**\n",
        "  * **Entropy**\n",
        "* Used to select the best feature for splitting.\n",
        "\n",
        "---\n",
        "\n",
        "### 3. **What is the mathematical formula for Gini Impurity?**\n",
        "\n",
        "$$\n",
        "Gini = 1 - \\sum_{i=1}^{n} p_i^2\n",
        "$$\n",
        "\n",
        "* Where $p_i$ is the probability of class $i$ in the node.\n",
        "* Lower Gini indicates purer nodes.\n",
        "\n",
        "---\n",
        "\n",
        "### 4. **What is the mathematical formula for Entropy?**\n",
        "\n",
        "$$\n",
        "Entropy = -\\sum_{i=1}^{n} p_i \\log_2(p_i)\n",
        "$$\n",
        "\n",
        "* Where $p_i$ is the probability of class $i$.\n",
        "* Entropy is 0 when the node is pure (only one class).\n",
        "\n",
        "---\n",
        "\n",
        "### 5. **What is Information Gain, and how is it used in Decision Trees?**\n",
        "\n",
        "* **Information Gain (IG)** is the reduction in entropy after a dataset is split on an attribute.\n",
        "\n",
        "$$\n",
        "IG = Entropy_{parent} - \\sum_{i=1}^{k} \\frac{n_i}{n} \\cdot Entropy_{child_i}\n",
        "$$\n",
        "\n",
        "* Used to choose the best feature for splitting at each step.\n",
        "\n",
        "---\n",
        "\n",
        "### 6. **What is the difference between Gini Impurity and Entropy?**\n",
        "\n",
        "| Aspect      | Gini Impurity                  | Entropy                      |\n",
        "| ----------- | ------------------------------ | ---------------------------- |\n",
        "| Formula     | $1 - \\sum p_i^2$               | $-\\sum p_i \\log_2 p_i$       |\n",
        "| Computation | Faster                         | Slower (uses log)            |\n",
        "| Value Range | 0 (pure) to 0.5 (binary split) | 0 (pure) to 1 (binary split) |\n",
        "| Preference  | CART uses Gini                 | ID3 uses Entropy             |\n",
        "\n",
        "---\n",
        "\n",
        "### 7. **What is the mathematical explanation behind Decision Trees?**\n",
        "\n",
        "* A Decision Tree:\n",
        "\n",
        "  1. Starts with a dataset $D$.\n",
        "  2. Chooses a feature $A$ that gives the highest **Information Gain** or lowest **Gini Impurity** after split.\n",
        "  3. Repeats recursively on subsets $D_1, D_2, ..., D_n$ until:\n",
        "\n",
        "     * Node is pure.\n",
        "     * Max depth is reached.\n",
        "     * Information gain is negligible.\n",
        "\n",
        "---\n",
        "\n",
        "### 8. **What is Pre-Pruning in Decision Trees?**\n",
        "\n",
        "* Also called **early stopping**.\n",
        "* Stop tree growth **before** it becomes too complex.\n",
        "* Criteria:\n",
        "\n",
        "  * Max depth\n",
        "  * Min samples per node\n",
        "  * Min information gain\n",
        "\n",
        "---\n",
        "\n",
        "### 9. **What is Post-Pruning in Decision Trees?**\n",
        "\n",
        "* Also called **pruning after growth**.\n",
        "* Build full tree, then **remove branches** that don’t improve accuracy (based on validation set).\n",
        "* Methods:\n",
        "\n",
        "  * Cost-complexity pruning (CART)\n",
        "  * Reduced error pruning\n",
        "\n",
        "---\n",
        "\n",
        "### 10. **Difference between Pre-Pruning and Post-Pruning**\n",
        "\n",
        "| Feature      | Pre-Pruning                                 | Post-Pruning                   |\n",
        "| ------------ | ------------------------------------------- | ------------------------------ |\n",
        "| When applied | During tree building                        | After tree is fully built      |\n",
        "| Advantage    | Faster training, prevents overfitting early | More informed pruning          |\n",
        "| Disadvantage | May miss important patterns                 | More computationally expensive |\n",
        "\n",
        "---\n",
        "\n",
        "### 11. **What is a Decision Tree Regressor?**\n",
        "\n",
        "* A version of the Decision Tree used for **predicting continuous values**.\n",
        "* Splits data to **minimize variance** (instead of impurity).\n",
        "* At each leaf, predicts the **mean** of the target variable in that subset.\n",
        "\n",
        "---\n",
        "\n",
        "### 12. **Advantages and Disadvantages of Decision Trees**\n",
        "\n",
        "**Advantages:**\n",
        "\n",
        "* Easy to understand and interpret\n",
        "* No need for feature scaling\n",
        "* Handles both numerical and categorical data\n",
        "* Works well with small datasets\n",
        "\n",
        "**Disadvantages:**\n",
        "\n",
        "* Prone to overfitting\n",
        "* Unstable to slight data changes\n",
        "* Greedy algorithm may miss optimal tree\n",
        "* Biased towards features with more levels\n",
        "\n",
        "---\n",
        "\n",
        "### 13. **How does a Decision Tree handle missing values?**\n",
        "\n",
        "* Strategies include:\n",
        "\n",
        "  * **Surrogate splits**: Use other features that give similar splits.\n",
        "  * **Imputation**: Fill missing values with mean/median/mode.\n",
        "  * **Missing branch**: Add a branch for missing values during training.\n",
        "\n",
        "---\n",
        "\n",
        "### 14. **How does a Decision Tree handle categorical features?**\n",
        "\n",
        "* Can directly split on categorical values.\n",
        "* For multi-category features:\n",
        "\n",
        "  * Use **one-vs-rest** or **best subset split** based on impurity reduction.\n",
        "\n",
        "---\n",
        "\n",
        "### 15. **Real-world Applications of Decision Trees**\n",
        "\n",
        "* **Banking**: Loan approval, credit scoring\n",
        "* **Healthcare**: Disease diagnosis\n",
        "* **Retail**: Customer segmentation\n",
        "* **Finance**: Fraud detection\n",
        "* **Manufacturing**: Predictive maintenance\n",
        "* **Marketing**: Targeted advertising\n",
        "\n",
        "\n"
      ],
      "metadata": {
        "id": "Dk4JdWgmB4p-"
      }
    },
    {
      "cell_type": "code",
      "source": [
        "# 16. Train a Decision Tree Classifier on the Iris dataset\n",
        "from sklearn.datasets import load_iris\n",
        "from sklearn.tree import DecisionTreeClassifier\n",
        "from sklearn.model_selection import train_test_split\n",
        "from sklearn.metrics import accuracy_score, precision_score, recall_score, f1_score, confusion_matrix\n",
        "import seaborn as sns\n",
        "import matplotlib.pyplot as plt\n",
        "from sklearn.model_selection import GridSearchCV\n",
        "iris = load_iris()\n",
        "X_train, X_test, y_train, y_test = train_test_split(iris.data, iris.target, test_size=0.3, random_state=42)\n",
        "clf = DecisionTreeClassifier()\n",
        "clf.fit(X_train, y_train)\n",
        "y_pred = clf.predict(X_test)\n",
        "print(\"Accuracy:\", accuracy_score(y_test, y_pred))"
      ],
      "metadata": {
        "colab": {
          "base_uri": "https://localhost:8080/"
        },
        "id": "0QozmzIpC5-u",
        "outputId": "7e05b6d6-1c65-4760-d89b-63f5c4ad0748"
      },
      "execution_count": 3,
      "outputs": [
        {
          "output_type": "stream",
          "name": "stdout",
          "text": [
            "Accuracy: 1.0\n"
          ]
        }
      ]
    },
    {
      "cell_type": "code",
      "source": [
        "# 17. Using Gini Impurity and printing feature importances\n",
        "clf_gini = DecisionTreeClassifier(criterion='gini')\n",
        "clf_gini.fit(X_train, y_train)\n",
        "print(\"Feature importances (Gini):\", clf_gini.feature_importances_)"
      ],
      "metadata": {
        "colab": {
          "base_uri": "https://localhost:8080/",
          "height": 193
        },
        "id": "O4z9O_LgC7Rl",
        "outputId": "88036124-f5a9-47b0-bff4-bef86ee0ee9f"
      },
      "execution_count": 2,
      "outputs": [
        {
          "output_type": "error",
          "ename": "NameError",
          "evalue": "name 'X_train' is not defined",
          "traceback": [
            "\u001b[0;31m---------------------------------------------------------------------------\u001b[0m",
            "\u001b[0;31mNameError\u001b[0m                                 Traceback (most recent call last)",
            "\u001b[0;32m<ipython-input-2-ec83c5950b65>\u001b[0m in \u001b[0;36m<cell line: 0>\u001b[0;34m()\u001b[0m\n\u001b[1;32m      1\u001b[0m \u001b[0;31m# 17. Using Gini Impurity and printing feature importances\u001b[0m\u001b[0;34m\u001b[0m\u001b[0;34m\u001b[0m\u001b[0m\n\u001b[1;32m      2\u001b[0m \u001b[0mclf_gini\u001b[0m \u001b[0;34m=\u001b[0m \u001b[0mDecisionTreeClassifier\u001b[0m\u001b[0;34m(\u001b[0m\u001b[0mcriterion\u001b[0m\u001b[0;34m=\u001b[0m\u001b[0;34m'gini'\u001b[0m\u001b[0;34m)\u001b[0m\u001b[0;34m\u001b[0m\u001b[0;34m\u001b[0m\u001b[0m\n\u001b[0;32m----> 3\u001b[0;31m \u001b[0mclf_gini\u001b[0m\u001b[0;34m.\u001b[0m\u001b[0mfit\u001b[0m\u001b[0;34m(\u001b[0m\u001b[0mX_train\u001b[0m\u001b[0;34m,\u001b[0m \u001b[0my_train\u001b[0m\u001b[0;34m)\u001b[0m\u001b[0;34m\u001b[0m\u001b[0;34m\u001b[0m\u001b[0m\n\u001b[0m\u001b[1;32m      4\u001b[0m \u001b[0mprint\u001b[0m\u001b[0;34m(\u001b[0m\u001b[0;34m\"Feature importances (Gini):\"\u001b[0m\u001b[0;34m,\u001b[0m \u001b[0mclf_gini\u001b[0m\u001b[0;34m.\u001b[0m\u001b[0mfeature_importances_\u001b[0m\u001b[0;34m)\u001b[0m\u001b[0;34m\u001b[0m\u001b[0;34m\u001b[0m\u001b[0m\n",
            "\u001b[0;31mNameError\u001b[0m: name 'X_train' is not defined"
          ]
        }
      ]
    },
    {
      "cell_type": "code",
      "source": [
        "# 18. Using Entropy and printing accuracy\n",
        "clf_entropy = DecisionTreeClassifier(criterion='entropy')\n",
        "clf_entropy.fit(X_train, y_train)\n",
        "y_pred_entropy = clf_entropy.predict(X_test)\n",
        "print(\"Accuracy (Entropy):\", accuracy_score(y_test, y_pred_entropy))"
      ],
      "metadata": {
        "colab": {
          "base_uri": "https://localhost:8080/"
        },
        "id": "YLZPv6pDC7Qc",
        "outputId": "38d3cbbb-a288-4a70-c995-f55d41c519e7"
      },
      "execution_count": 6,
      "outputs": [
        {
          "output_type": "stream",
          "name": "stdout",
          "text": [
            "Accuracy (Entropy): 0.9777777777777777\n"
          ]
        }
      ]
    },
    {
      "cell_type": "code",
      "source": [
        "# 19. Decision Tree Regressor on housing dataset\n",
        "from sklearn.datasets import fetch_california_housing\n",
        "from sklearn.tree import DecisionTreeRegressor\n",
        "from sklearn.metrics import mean_squared_error\n",
        "\n",
        "housing = fetch_california_housing()\n",
        "X_train_h, X_test_h, y_train_h, y_test_h = train_test_split(housing.data, housing.target, test_size=0.3, random_state=42)\n",
        "reg = DecisionTreeRegressor()\n",
        "reg.fit(X_train_h, y_train_h)\n",
        "y_pred_h = reg.predict(X_test_h)\n",
        "print(\"MSE:\", mean_squared_error(y_test_h, y_pred_h))"
      ],
      "metadata": {
        "colab": {
          "base_uri": "https://localhost:8080/"
        },
        "id": "Wz9C_ykODEWD",
        "outputId": "deb2977d-c6a6-4206-85b0-8c210c4338c1"
      },
      "execution_count": 9,
      "outputs": [
        {
          "output_type": "stream",
          "name": "stdout",
          "text": [
            "MSE: 0.5285100131694768\n"
          ]
        }
      ]
    },
    {
      "cell_type": "code",
      "source": [
        "# 20. Visualize the tree using graphviz\n",
        "from sklearn.tree import export_graphviz\n",
        "import graphviz\n",
        "\n",
        "dot_data = export_graphviz(clf, out_file=None, feature_names=iris.feature_names, class_names=iris.target_names, filled=True)\n",
        "graph = graphviz.Source(dot_data)\n",
        "graph.render(\"iris_tree\")"
      ],
      "metadata": {
        "colab": {
          "base_uri": "https://localhost:8080/",
          "height": 35
        },
        "id": "5IErmKqaDIsr",
        "outputId": "282ae796-e519-4b48-d793-3a965fc9e3d5"
      },
      "execution_count": 11,
      "outputs": [
        {
          "output_type": "execute_result",
          "data": {
            "text/plain": [
              "'iris_tree.pdf'"
            ],
            "application/vnd.google.colaboratory.intrinsic+json": {
              "type": "string"
            }
          },
          "metadata": {},
          "execution_count": 11
        }
      ]
    },
    {
      "cell_type": "code",
      "source": [
        "# 21. Max depth 3 vs full tree\n",
        "clf_depth3 = DecisionTreeClassifier(max_depth=3)\n",
        "clf_depth3.fit(X_train, y_train)\n",
        "y_pred3 = clf_depth3.predict(X_test)\n",
        "print(\"Accuracy (Depth=3):\", accuracy_score(y_test, y_pred3))"
      ],
      "metadata": {
        "colab": {
          "base_uri": "https://localhost:8080/"
        },
        "id": "ljRW5bYcDJyM",
        "outputId": "c0aa3f2f-2216-4987-d690-4da261f4e20c"
      },
      "execution_count": 13,
      "outputs": [
        {
          "output_type": "stream",
          "name": "stdout",
          "text": [
            "Accuracy (Depth=3): 1.0\n"
          ]
        }
      ]
    },
    {
      "cell_type": "code",
      "source": [
        "# 22. Using min_samples_split=5\n",
        "clf_min_samples = DecisionTreeClassifier(min_samples_split=5)\n",
        "clf_min_samples.fit(X_train, y_train)\n",
        "y_pred_min = clf_min_samples.predict(X_test)\n",
        "print(\"Accuracy (min_samples_split=5):\", accuracy_score(y_test, y_pred_min))\n"
      ],
      "metadata": {
        "colab": {
          "base_uri": "https://localhost:8080/"
        },
        "id": "jGFBbRJBDMGN",
        "outputId": "8cfc11aa-a560-4dd9-9e48-9bf690caa2f4"
      },
      "execution_count": 14,
      "outputs": [
        {
          "output_type": "stream",
          "name": "stdout",
          "text": [
            "Accuracy (min_samples_split=5): 1.0\n"
          ]
        }
      ]
    },
    {
      "cell_type": "code",
      "source": [
        "# 23. With and without feature scaling\n",
        "from sklearn.preprocessing import StandardScaler\n",
        "scaler = StandardScaler()\n",
        "X_scaled = scaler.fit_transform(iris.data)\n",
        "X_train_s, X_test_s, y_train_s, y_test_s = train_test_split(X_scaled, iris.target, test_size=0.3, random_state=42)\n",
        "\n",
        "clf_scaled = DecisionTreeClassifier()\n",
        "clf_scaled.fit(X_train_s, y_train_s)\n",
        "y_pred_scaled = clf_scaled.predict(X_test_s)\n",
        "print(\"Accuracy (Scaled):\", accuracy_score(y_test_s, y_pred_scaled))\n",
        "\n",
        "print(\"Accuracy (Unscaled):\", accuracy_score(y_test, y_pred))\n"
      ],
      "metadata": {
        "colab": {
          "base_uri": "https://localhost:8080/"
        },
        "id": "BFjZMP6hDN-b",
        "outputId": "b9e67477-187c-4d97-ba3a-1da4782bb763"
      },
      "execution_count": 18,
      "outputs": [
        {
          "output_type": "stream",
          "name": "stdout",
          "text": [
            "Accuracy (Scaled): 1.0\n",
            "Accuracy (Unscaled): 1.0\n"
          ]
        }
      ]
    },
    {
      "cell_type": "code",
      "source": [
        "# 24. One-vs-Rest (OvR) strategy\n",
        "from sklearn.multiclass import OneVsRestClassifier\n",
        "ovr_clf = OneVsRestClassifier(DecisionTreeClassifier())\n",
        "ovr_clf.fit(X_train, y_train)\n",
        "y_pred_ovr = ovr_clf.predict(X_test)\n",
        "print(\"Accuracy (OvR):\", accuracy_score(y_test, y_pred_ovr))"
      ],
      "metadata": {
        "colab": {
          "base_uri": "https://localhost:8080/"
        },
        "id": "vNuzk2CyDP18",
        "outputId": "f5ec3e49-38f3-4503-bf03-0bae8745abc6"
      },
      "execution_count": 20,
      "outputs": [
        {
          "output_type": "stream",
          "name": "stdout",
          "text": [
            "Accuracy (OvR): 1.0\n"
          ]
        }
      ]
    },
    {
      "cell_type": "code",
      "source": [
        "# 25. Display feature importance scores\n",
        "print(\"Feature importances:\", clf.feature_importances_)"
      ],
      "metadata": {
        "colab": {
          "base_uri": "https://localhost:8080/"
        },
        "id": "ptfHTmkdDW5M",
        "outputId": "bdf8924a-bf60-46f5-e78a-bf8a76465919"
      },
      "execution_count": 22,
      "outputs": [
        {
          "output_type": "stream",
          "name": "stdout",
          "text": [
            "Feature importances: [0.03822004 0.         0.06846677 0.89331319]\n"
          ]
        }
      ]
    },
    {
      "cell_type": "code",
      "source": [
        "# 26. Regressor with max_depth=5 vs full tree\n",
        "reg5 = DecisionTreeRegressor(max_depth=5)\n",
        "reg5.fit(X_train_h, y_train_h)\n",
        "y_pred5 = reg5.predict(X_test_h)\n",
        "print(\"MSE (max_depth=5):\", mean_squared_error(y_test_h, y_pred5))\n",
        "print(\"MSE (unrestricted):\", mean_squared_error(y_test_h, y_pred_h))"
      ],
      "metadata": {
        "colab": {
          "base_uri": "https://localhost:8080/"
        },
        "id": "wrEWWy_LDYSL",
        "outputId": "03218c42-b826-4758-dbd2-83edf9aea51b"
      },
      "execution_count": 25,
      "outputs": [
        {
          "output_type": "stream",
          "name": "stdout",
          "text": [
            "MSE (max_depth=5): 0.5210801561811792\n",
            "MSE (unrestricted): 0.5285100131694768\n"
          ]
        }
      ]
    },
    {
      "cell_type": "code",
      "source": [
        "# 27. Cost Complexity Pruning (CCP)\n",
        "path = clf.cost_complexity_pruning_path(X_train, y_train)\n",
        "ccp_alphas = path.ccp_alphas\n",
        "\n",
        "clfs = []\n",
        "for ccp_alpha in ccp_alphas:\n",
        "    clf_temp = DecisionTreeClassifier(random_state=42, ccp_alpha=ccp_alpha)\n",
        "    clf_temp.fit(X_train, y_train)\n",
        "    clfs.append(clf_temp)\n",
        "\n",
        "train_scores = [clf_temp.score(X_train, y_train) for clf_temp in clfs]\n",
        "test_scores = [clf_temp.score(X_test, y_test) for clf_temp in clfs]\n",
        "\n",
        "plt.figure(figsize=(10,6))\n",
        "plt.plot(ccp_alphas, train_scores, marker='o', label='Train Accuracy')\n",
        "plt.plot(ccp_alphas, test_scores, marker='x', label='Test Accuracy')\n",
        "plt.xlabel(\"CCP Alpha\")\n",
        "plt.ylabel(\"Accuracy\")\n",
        "plt.legend()\n",
        "plt.title(\"Effect of Cost Complexity Pruning\")\n",
        "plt.grid(True)\n",
        "plt.show()"
      ],
      "metadata": {
        "colab": {
          "base_uri": "https://localhost:8080/",
          "height": 564
        },
        "id": "te7zpjT8DaeU",
        "outputId": "df6f5941-7071-4c3e-88e5-20b5fbdcd127"
      },
      "execution_count": 27,
      "outputs": [
        {
          "output_type": "display_data",
          "data": {
            "text/plain": [
              "<Figure size 1000x600 with 1 Axes>"
            ],
            "image/png": "[encoded data removed]"
          },
          "metadata": {}
        }
      ]
    },
    {
      "cell_type": "code",
      "source": [
        "# 28. Evaluate performance using precision, recall, and F1-score\n",
        "print(\"Precision:\", precision_score(y_test, y_pred, average='macro'))\n",
        "print(\"Recall:\", recall_score(y_test, y_pred, average='macro'))\n",
        "print(\"F1 Score:\", f1_score(y_test, y_pred, average='macro'))"
      ],
      "metadata": {
        "colab": {
          "base_uri": "https://localhost:8080/"
        },
        "id": "zHuqMcA4DgUq",
        "outputId": "67f55318-fd36-45b1-8e3f-73b32267272d"
      },
      "execution_count": 29,
      "outputs": [
        {
          "output_type": "stream",
          "name": "stdout",
          "text": [
            "Precision: 1.0\n",
            "Recall: 1.0\n",
            "F1 Score: 1.0\n"
          ]
        }
      ]
    },
    {
      "cell_type": "code",
      "source": [
        "# 29. Visualize confusion matrix using seaborn\n",
        "cm = confusion_matrix(y_test, y_pred)\n",
        "sns.heatmap(cm, annot=True, fmt='d', cmap='Blues', xticklabels=iris.target_names, yticklabels=iris.target_names)\n",
        "plt.xlabel('Predicted')\n",
        "plt.ylabel('Actual')\n",
        "plt.title('Confusion Matrix')\n",
        "plt.show()"
      ],
      "metadata": {
        "colab": {
          "base_uri": "https://localhost:8080/",
          "height": 472
        },
        "id": "vAEHdb6ADjPM",
        "outputId": "1672fa58-a698-43ff-9f81-0e0f89d72e07"
      },
      "execution_count": 31,
      "outputs": [
        {
          "output_type": "display_data",
          "data": {
            "text/plain": [
              "<Figure size 640x480 with 2 Axes>"
            ],
            "image/png": "[encoded data removed]"
          },
          "metadata": {}
        }
      ]
    },
    {
      "cell_type": "code",
      "source": [
        "# 30. GridSearchCV for max_depth and min_samples_split\n",
        "param_grid = {\n",
        "    'max_depth': [2, 3, 4, 5, 6, None],\n",
        "    'min_samples_split': [2, 5, 10]\n",
        "}\n",
        "grid_search = GridSearchCV(DecisionTreeClassifier(), param_grid, cv=5, scoring='accuracy')\n",
        "grid_search.fit(X_train, y_train)\n",
        "print(\"Best Parameters:\", grid_search.best_params_)\n",
        "print(\"Best Score:\", grid_search.best_score_)\n"
      ],
      "metadata": {
        "colab": {
          "base_uri": "https://localhost:8080/"
        },
        "id": "A4by4l-wDlFa",
        "outputId": "4e359cb0-eaed-4d0d-ff57-4c52ebc239c8"
      },
      "execution_count": 32,
      "outputs": [
        {
          "output_type": "stream",
          "name": "stdout",
          "text": [
            "Best Parameters: {'max_depth': 4, 'min_samples_split': 10}\n",
            "Best Score: 0.9428571428571428\n"
          ]
        }
      ]
    }
  ]
}